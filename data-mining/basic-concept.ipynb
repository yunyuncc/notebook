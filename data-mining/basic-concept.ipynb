{
 "cells": [
  {
   "cell_type": "markdown",
   "metadata": {},
   "source": [
    "# 数据分析的基本概念"
   ]
  },
  {
   "cell_type": "markdown",
   "metadata": {},
   "source": [
    "商业智能(Business Intelligence)、数据仓库(Data Warehouse)、数据挖掘(Data Mining)"
   ]
  },
  {
   "cell_type": "markdown",
   "metadata": {},
   "source": [
    "### 元数据(Meta Data)与数据元(Data Element)\n",
    "图书的元数据是书名、作者、出版社、ISBN、出版时间、页数和定价等多个属性。元数据中的每一个项就是其中的一个数据元。"
   ]
  },
  {
   "cell_type": "markdown",
   "metadata": {},
   "source": [
    "### 数据挖掘中的几个重要任务\n",
    "1. 分类\n",
    "2. 聚类\n",
    "3. 预测\n",
    "4. 关联分析"
   ]
  },
  {
   "cell_type": "markdown",
   "metadata": {},
   "source": [
    "### 数据挖掘的过程\n",
    "1. 输入数据\n",
    "2. 数据预处理\n",
    ">2.1 数据清洗(去除重复数据，去噪声，填充缺失值)<br>\n",
    ">2.2 数据集成(将多个数据源的数据集成在同一个数据集中)<br>\n",
    ">2.3 数据变换(将数据转换成合适的形式，比如归一化)<br>\n",
    "3. 数据挖掘\n",
    "4. 后处理\n",
    "5. 信息"
   ]
  },
  {
   "cell_type": "code",
   "execution_count": null,
   "metadata": {},
   "outputs": [],
   "source": []
  }
 ],
 "metadata": {
  "kernelspec": {
   "display_name": "Python 3",
   "language": "python",
   "name": "python3"
  },
  "language_info": {
   "codemirror_mode": {
    "name": "ipython",
    "version": 3
   },
   "file_extension": ".py",
   "mimetype": "text/x-python",
   "name": "python",
   "nbconvert_exporter": "python",
   "pygments_lexer": "ipython3",
   "version": "3.6.4"
  }
 },
 "nbformat": 4,
 "nbformat_minor": 2
}
