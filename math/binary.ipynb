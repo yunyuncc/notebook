{
 "cells": [
  {
   "cell_type": "markdown",
   "metadata": {},
   "source": [
    "二进制左移一位就是乘以2"
   ]
  },
  {
   "cell_type": "code",
   "execution_count": 8,
   "metadata": {},
   "outputs": [],
   "source": [
    "a = 1\n",
    "b = a << 1\n",
    "assert(b == a*2)\n",
    "c = a << 3\n",
    "assert(c == a*(2**3))"
   ]
  },
  {
   "cell_type": "markdown",
   "metadata": {},
   "source": [
    "二进制右移一位就是除以2求整数商"
   ]
  },
  {
   "cell_type": "code",
   "execution_count": 20,
   "metadata": {},
   "outputs": [],
   "source": [
    "a = 53001\n",
    "b = a >> 1\n",
    "assert(b == (a // 2))\n",
    "c = a >> 4\n",
    "assert(c == (a // (2**4)))"
   ]
  },
  {
   "cell_type": "markdown",
   "metadata": {},
   "source": [
    "1. 位与：两个位必须全部为1结果才为1\n",
    "2. 位或：两个位只要有一个为1，结果就为1\n",
    "3. 异或：两个位相同，结果为0；两个位不同，结果为1"
   ]
  }
 ],
 "metadata": {
  "kernelspec": {
   "display_name": "Python 3",
   "language": "python",
   "name": "python3"
  },
  "language_info": {
   "codemirror_mode": {
    "name": "ipython",
    "version": 3
   },
   "file_extension": ".py",
   "mimetype": "text/x-python",
   "name": "python",
   "nbconvert_exporter": "python",
   "pygments_lexer": "ipython3",
   "version": "3.6.4"
  }
 },
 "nbformat": 4,
 "nbformat_minor": 2
}
