{
 "cells": [
  {
   "cell_type": "markdown",
   "metadata": {},
   "source": [
    "# 程序员的数学基础"
   ]
  },
  {
   "cell_type": "markdown",
   "metadata": {},
   "source": [
    "## 二进制"
   ]
  },
  {
   "cell_type": "markdown",
   "metadata": {},
   "source": [
    "二进制左移一位就是乘以2"
   ]
  },
  {
   "cell_type": "code",
   "execution_count": 8,
   "metadata": {},
   "outputs": [],
   "source": [
    "a = 1\n",
    "b = a << 1\n",
    "assert(b == a*2)\n",
    "c = a << 3\n",
    "assert(c == a*(2**3))"
   ]
  },
  {
   "cell_type": "markdown",
   "metadata": {},
   "source": [
    "二进制右移一位就是除以2求整数商"
   ]
  },
  {
   "cell_type": "code",
   "execution_count": 20,
   "metadata": {},
   "outputs": [],
   "source": [
    "a = 53001\n",
    "b = a >> 1\n",
    "assert(b == (a // 2))\n",
    "c = a >> 4\n",
    "assert(c == (a // (2**4)))"
   ]
  },
  {
   "cell_type": "markdown",
   "metadata": {},
   "source": [
    "1. 位与：两个位必须全部为1结果才为1\n",
    "2. 位或：两个位只要有一个为1，结果就为1\n",
    "3. 异或：两个位相同，结果为0；两个位不同，结果为1"
   ]
  },
  {
   "cell_type": "markdown",
   "metadata": {},
   "source": [
    "## 余数"
   ]
  },
  {
   "cell_type": "markdown",
   "metadata": {},
   "source": [
    "同余定理：<br>\n",
    "两个整数a,b,如果他们除以同一个数m后余数相等，我们就可以说a和b对于模m同余。<br>\n",
    "同余定理其实就是用来分类的。"
   ]
  },
  {
   "cell_type": "code",
   "execution_count": 22,
   "metadata": {},
   "outputs": [
    {
     "name": "stdout",
     "output_type": "stream",
     "text": [
      "5 除以 2 余  1\n"
     ]
    }
   ],
   "source": [
    "a = 5\n",
    "print(\"5 除以 2 余 \", 5%2)"
   ]
  },
  {
   "cell_type": "markdown",
   "metadata": {},
   "source": [
    "取余操作也可以当作hash来用"
   ]
  },
  {
   "cell_type": "markdown",
   "metadata": {},
   "source": [
    "## 迭代法\n",
    "迭代法就是不断用旧的变量计算出新的变量的值<br>\n",
    "它很适合用循环语句来实现<br>\n",
    "二分法就是迭代法的一个经典例子<br>\n",
    "下面的例子就是使用二分法来计算平方根，这里面不断迭代的变量就是mid<br>"
   ]
  },
  {
   "cell_type": "code",
   "execution_count": 57,
   "metadata": {},
   "outputs": [
    {
     "name": "stdout",
     "output_type": "stream",
     "text": [
      "2236067.9774997896\n",
      "result=2236067.977500 loss=-0.000977\n"
     ]
    }
   ],
   "source": [
    "import math\n",
    "\n",
    "def it_sqrt(num, precision = 10**-10, max_it_count=10**6):\n",
    "    if num < 0:\n",
    "        raise ValueError(\"num should > 0\")\n",
    "    small = 0\n",
    "    big = num\n",
    "    for i in range (max_it_count):\n",
    "        mid = (big + small) / 2\n",
    "        loss = mid**2 - num\n",
    "        #print(\"i=%d mid=%f loss = %f\" %(i, mid, loss))\n",
    "        if abs(loss) < precision:\n",
    "            print(\"get res i=\", i)\n",
    "            return (mid, loss)\n",
    "        elif loss > 0: # mid is too big, pick small ~ mid\n",
    "            big = mid\n",
    "        else: # mid is too small, pick mid ~ big\n",
    "            small = mid\n",
    "    return(mid, loss)\n",
    "    raise RuntimeError(\"can not get result in %d loss=%f\" % (max_it_count, loss))\n",
    "num = 5000000000000\n",
    "print(math.sqrt(num))\n",
    "res, loss = it_sqrt(num)\n",
    "print(\"result=%f loss=%f\"% (res,loss))"
   ]
  },
  {
   "cell_type": "code",
   "execution_count": null,
   "metadata": {},
   "outputs": [],
   "source": []
  }
 ],
 "metadata": {
  "kernelspec": {
   "display_name": "Python 3",
   "language": "python",
   "name": "python3"
  },
  "language_info": {
   "codemirror_mode": {
    "name": "ipython",
    "version": 3
   },
   "file_extension": ".py",
   "mimetype": "text/x-python",
   "name": "python",
   "nbconvert_exporter": "python",
   "pygments_lexer": "ipython3",
   "version": "3.6.4"
  }
 },
 "nbformat": 4,
 "nbformat_minor": 2
}
