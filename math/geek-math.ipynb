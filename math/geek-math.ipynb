{
 "cells": [
  {
   "cell_type": "markdown",
   "metadata": {},
   "source": [
    "# 程序员的数学基础"
   ]
  },
  {
   "cell_type": "markdown",
   "metadata": {},
   "source": [
    "## 二进制"
   ]
  },
  {
   "cell_type": "markdown",
   "metadata": {},
   "source": [
    "二进制左移一位就是乘以2"
   ]
  },
  {
   "cell_type": "code",
   "execution_count": 8,
   "metadata": {},
   "outputs": [],
   "source": [
    "a = 1\n",
    "b = a << 1\n",
    "assert(b == a*2)\n",
    "c = a << 3\n",
    "assert(c == a*(2**3))"
   ]
  },
  {
   "cell_type": "markdown",
   "metadata": {},
   "source": [
    "二进制右移一位就是除以2求整数商"
   ]
  },
  {
   "cell_type": "code",
   "execution_count": 20,
   "metadata": {},
   "outputs": [],
   "source": [
    "a = 53001\n",
    "b = a >> 1\n",
    "assert(b == (a // 2))\n",
    "c = a >> 4\n",
    "assert(c == (a // (2**4)))"
   ]
  },
  {
   "cell_type": "markdown",
   "metadata": {},
   "source": [
    "1. 位与：两个位必须全部为1结果才为1\n",
    "2. 位或：两个位只要有一个为1，结果就为1\n",
    "3. 异或：两个位相同，结果为0；两个位不同，结果为1"
   ]
  },
  {
   "cell_type": "markdown",
   "metadata": {},
   "source": [
    "## 余数"
   ]
  },
  {
   "cell_type": "markdown",
   "metadata": {},
   "source": [
    "同余定理：<br>\n",
    "两个整数a,b,如果他们除以同一个数m后余数相等，我们就可以说a和b对于模m同余。<br>\n",
    "同余定理其实就是用来分类的。"
   ]
  },
  {
   "cell_type": "code",
   "execution_count": 22,
   "metadata": {},
   "outputs": [
    {
     "name": "stdout",
     "output_type": "stream",
     "text": [
      "5 除以 2 余  1\n"
     ]
    }
   ],
   "source": [
    "a = 5\n",
    "print(\"5 除以 2 余 \", 5%2)"
   ]
  },
  {
   "cell_type": "markdown",
   "metadata": {},
   "source": [
    "取余操作也可以当作hash来用"
   ]
  },
  {
   "cell_type": "markdown",
   "metadata": {},
   "source": [
    "## 迭代法\n",
    "迭代法就是不断用旧的变量计算出新的变量的值<br>\n",
    "它很适合用循环语句来实现<br>\n",
    "二分法就是迭代法的一个经典例子<br>\n",
    "下面的例子就是使用二分法来计算平方根，这里面不断迭代的变量就是mid<br>"
   ]
  },
  {
   "cell_type": "code",
   "execution_count": 57,
   "metadata": {},
   "outputs": [
    {
     "name": "stdout",
     "output_type": "stream",
     "text": [
      "2236067.9774997896\n",
      "result=2236067.977500 loss=-0.000977\n"
     ]
    }
   ],
   "source": [
    "import math\n",
    "\n",
    "def it_sqrt(num, precision = 10**-10, max_it_count=10**6):\n",
    "    if num < 0:\n",
    "        raise ValueError(\"num should > 0\")\n",
    "    small = 0\n",
    "    big = num\n",
    "    for i in range (max_it_count):\n",
    "        mid = (big + small) / 2\n",
    "        loss = mid**2 - num\n",
    "        #print(\"i=%d mid=%f loss = %f\" %(i, mid, loss))\n",
    "        if abs(loss) < precision:\n",
    "            print(\"get res i=\", i)\n",
    "            return (mid, loss)\n",
    "        elif loss > 0: # mid is too big, pick small ~ mid\n",
    "            big = mid\n",
    "        else: # mid is too small, pick mid ~ big\n",
    "            small = mid\n",
    "    return(mid, loss)\n",
    "    raise RuntimeError(\"can not get result in %d loss=%f\" % (max_it_count, loss))\n",
    "num = 5000000000000\n",
    "print(math.sqrt(num))\n",
    "res, loss = it_sqrt(num)\n",
    "print(\"result=%f loss=%f\"% (res,loss))"
   ]
  },
  {
   "cell_type": "markdown",
   "metadata": {},
   "source": [
    "## 递归法\n",
    "下面的归并排序使用了分治的思想，采用了递归的实现方法。<br>\n",
    "1. 将要排序的数组每次都分成左右两半，一直分下去，直到只剩下一个元素，这个元素就是天然排序好的数组。\n",
    "2. 将排序好的左右两个数组归并成一个排序好的数组。"
   ]
  },
  {
   "cell_type": "code",
   "execution_count": 4,
   "metadata": {},
   "outputs": [
    {
     "name": "stdout",
     "output_type": "stream",
     "text": [
      "[1, 6, 8, 3, 4, 15, 6, 7, 19, 9]\n",
      "[1, 3, 4, 6, 6, 7, 8, 9, 15, 19]\n"
     ]
    }
   ],
   "source": [
    "import random\n",
    "def merge(a, b):\n",
    "    # a and b is sorted\n",
    "    c = []\n",
    "    while( len(a) != 0 and len(b) != 0):\n",
    "        if a[0] < b[0]:\n",
    "            c.append(a[0])\n",
    "            a = a[1:]\n",
    "        elif a[0] > b[0]:\n",
    "            c.append(b[0])\n",
    "            b = b[1:]\n",
    "        else:\n",
    "            c.append(a[0])\n",
    "            c.append(b[0])\n",
    "            a = a[1:]\n",
    "            b = b[1:]\n",
    "    if len(a) != 0:\n",
    "        c += a\n",
    "    if len(b) != 0:\n",
    "        c += b\n",
    "    return c\n",
    "\n",
    "\n",
    "def merge_sort(l):\n",
    "    if len(l) == 0:\n",
    "        return []\n",
    "    if len(l) == 1:\n",
    "        return l\n",
    "    mid = len(l)//2\n",
    "    left = l[0:mid]\n",
    "    right = l[mid:]\n",
    "    left = merge_sort(left)\n",
    "    right = merge_sort(right)\n",
    "    merged = merge(left, right)\n",
    "    return merged\n",
    "\n",
    "l  = [random.randint(0,  20) for _ in range(10)]\n",
    "print(l)\n",
    "sorted_l = merge_sort(l)\n",
    "print(sorted_l)"
   ]
  },
  {
   "cell_type": "markdown",
   "metadata": {},
   "source": [
    "### 理解分治的思想:MapReduce\n",
    "MapReduce 大体上分为input,split,map,shuffle,reduce,output几个步骤"
   ]
  },
  {
   "cell_type": "markdown",
   "metadata": {},
   "source": [
    "#### 第一步是获取input数据"
   ]
  },
  {
   "cell_type": "code",
   "execution_count": 6,
   "metadata": {},
   "outputs": [
    {
     "name": "stdout",
     "output_type": "stream",
     "text": [
      "-----input-----\n",
      "Hello Java\n",
      "Hello C  \n",
      "Hello Java\n",
      "Hello C++\n",
      "Hello Go\n",
      "Hello Python\n"
     ]
    }
   ],
   "source": [
    "#1. get input\n",
    "def get_input_data(file_path):\n",
    "    with open(file_path) as f:\n",
    "        content = f.read()\n",
    "    return content\n",
    "data = get_input_data(\"res/word_count.txt\")\n",
    "print(\"-----input-----\")\n",
    "print(data)"
   ]
  },
  {
   "cell_type": "markdown",
   "metadata": {},
   "source": [
    "#### 第二步是将原始数据分割，分给多个mapper"
   ]
  },
  {
   "cell_type": "code",
   "execution_count": 7,
   "metadata": {},
   "outputs": [
    {
     "name": "stdout",
     "output_type": "stream",
     "text": [
      "-------split-------\n",
      "{0: 'Hello Java', 1: 'Hello C', 2: 'Hello Java', 3: 'Hello C++', 4: 'Hello Go', 5: 'Hello Python'}\n"
     ]
    }
   ],
   "source": [
    "def do_split(input):\n",
    "    lines = input.split('\\n')\n",
    "    cont = dict((k, v.strip()) for k, v in enumerate(lines))\n",
    "    return cont\n",
    "data = do_split(data)\n",
    "print(\"-------split-------\")\n",
    "print(data)"
   ]
  },
  {
   "cell_type": "markdown",
   "metadata": {},
   "source": [
    "#### 第三步里各个mapper并行地将其获取的数据根据相应的业务逻辑映射成key-value"
   ]
  },
  {
   "cell_type": "code",
   "execution_count": 8,
   "metadata": {},
   "outputs": [
    {
     "name": "stdout",
     "output_type": "stream",
     "text": [
      "------mapped-----\n",
      "[('Hello', 1), ('Java', 1), ('Hello', 1), ('C', 1), ('Hello', 1), ('Java', 1), ('Hello', 1), ('C++', 1), ('Hello', 1), ('Go', 1), ('Hello', 1), ('Python', 1)]\n"
     ]
    }
   ],
   "source": [
    "def mapper_map(splited_item):\n",
    "    words = splited_item.split(' ')\n",
    "    mapped = [(v,1) for k, v in enumerate(words)]\n",
    "    return mapped\n",
    "#3. 为了实现简单，我们采用for循环来进行map,实际是可以有n个mapper来并行的做map的\n",
    "mapped_list = []\n",
    "for k, v in data.items():\n",
    "    mapped = mapper_map(v)\n",
    "    mapped_list += mapped\n",
    "print(\"------mapped-----\")\n",
    "print(mapped_list)"
   ]
  },
  {
   "cell_type": "markdown",
   "metadata": {},
   "source": [
    "#### 第四步是根据上面映射的key来作分类，分配到相应的reducer上去"
   ]
  },
  {
   "cell_type": "code",
   "execution_count": 9,
   "metadata": {},
   "outputs": [
    {
     "name": "stdout",
     "output_type": "stream",
     "text": [
      "--------after shuffle--------\n",
      "[('Hello', 1), ('Hello', 1), ('Hello', 1), ('Hello', 1), ('Hello', 1), ('Hello', 1)]\n",
      "[('Java', 1), ('Java', 1)]\n",
      "[('C++', 1)]\n",
      "[('Go', 1)]\n",
      "[('Python', 1)]\n"
     ]
    }
   ],
   "source": [
    "#4. shuffle,将相同的(或相关的，具体根据业务将数据按照key来进行分组)key的data分发到相应的机器上去\n",
    "hello_machine = []\n",
    "java_machine = []\n",
    "cxx_machine = []\n",
    "go_machine = []\n",
    "python_machine = []\n",
    "for (k,v) in mapped_list:\n",
    "    if k == \"Hello\":\n",
    "        hello_machine.append((k,v))\n",
    "    if k == \"Java\":\n",
    "        java_machine.append((k,v))\n",
    "    if k == \"C++\":\n",
    "        cxx_machine.append((k,v))\n",
    "    if k == \"Go\":\n",
    "        go_machine.append((k,v))\n",
    "    if k == \"Python\":\n",
    "        python_machine.append((k,v))\n",
    "        \n",
    "print(\"--------after shuffle--------\")\n",
    "print(hello_machine)\n",
    "print(java_machine)\n",
    "print(cxx_machine)\n",
    "print(go_machine)\n",
    "print(python_machine)"
   ]
  },
  {
   "cell_type": "markdown",
   "metadata": {},
   "source": [
    "#### 第五步是各个reducer并发的作reduce"
   ]
  },
  {
   "cell_type": "code",
   "execution_count": 10,
   "metadata": {},
   "outputs": [],
   "source": [
    "def do_reduce(datas):\n",
    "    \n",
    "    if len(datas) == 0:\n",
    "        return\n",
    "    key = datas[0][0]\n",
    "    return (key, len(datas))\n",
    "\n",
    "hello_output = do_reduce(hello_machine)\n",
    "java_output = do_reduce(java_machine)\n",
    "cxx_output = do_reduce(cxx_machine)\n",
    "go_output = do_reduce(go_machine)\n",
    "python_output = do_reduce(python_machine)"
   ]
  },
  {
   "cell_type": "markdown",
   "metadata": {},
   "source": [
    "#### 最后一步是收集汇总各个reducer产生的输出"
   ]
  },
  {
   "cell_type": "code",
   "execution_count": 11,
   "metadata": {},
   "outputs": [
    {
     "name": "stdout",
     "output_type": "stream",
     "text": [
      "[('Hello', 6), ('Java', 2), ('C++', 1), ('Go', 1), ('Python', 1)]\n"
     ]
    }
   ],
   "source": [
    "output = []\n",
    "output.append(hello_output)\n",
    "output.append(java_output)\n",
    "output.append(cxx_output)\n",
    "output.append(go_output)\n",
    "output.append(python_output)\n",
    "print(output)"
   ]
  }
 ],
 "metadata": {
  "kernelspec": {
   "display_name": "Python 3",
   "language": "python",
   "name": "python3"
  },
  "language_info": {
   "codemirror_mode": {
    "name": "ipython",
    "version": 3
   },
   "file_extension": ".py",
   "mimetype": "text/x-python",
   "name": "python",
   "nbconvert_exporter": "python",
   "pygments_lexer": "ipython3",
   "version": "3.6.4"
  }
 },
 "nbformat": 4,
 "nbformat_minor": 2
}
